{
 "cells": [
  {
   "cell_type": "markdown",
   "metadata": {},
   "source": [
    "# Foundations\n",
    "\n",
    "## Dimensions\n",
    "\n",
    "The first concept we're going to tackle is that of a dimension. You're probably used to thinking about dimensions in space. Space, as you've probably heard, is 3D. \n",
    "\n",
    "What does that mean? It means that I can describe where you are using 3 numbers. By convention, these are often called `x, y, z`. I can make those numbers really precise - adding lots of decimal places - but there's no need for more than 3 numbers."
   ]
  },
  {
   "cell_type": "code",
   "execution_count": 3,
   "metadata": {},
   "outputs": [
    {
     "data": {
      "application/vnd.jupyter.widget-view+json": {
       "model_id": "752a3cb73cc440e1ae09deb76d1b3775",
       "version_major": 2,
       "version_minor": 0
      },
      "text/plain": [
       "interactive(children=(IntSlider(value=25, description='x', max=50), IntSlider(value=25, description='y', max=5…"
      ]
     },
     "metadata": {},
     "output_type": "display_data"
    }
   ],
   "source": [
    "#HIDDEN\n",
    "from ipywidgets import interactive\n",
    "import matplotlib.pyplot as plt\n",
    "\n",
    "from mpl_toolkits.mplot3d import Axes3D\n",
    "import pandas as pd\n",
    "import numpy as np\n",
    "\n",
    "%matplotlib inline\n",
    "\n",
    "def plot_3d(x, y, z):\n",
    "    fig = plt.figure(figsize=(10,10))\n",
    "    ax = fig.add_subplot(111, projection='3d')\n",
    "    ax.scatter(x, y, z, color=\"g\", s=200)\n",
    "    plt.title('With these three sliders, you can specify where the ball is in space')\n",
    "    ax.set_xlim([0, 50])\n",
    "    ax.set_ylim([0, 50])\n",
    "    ax.set_zlim([0, 50])\n",
    "\n",
    "\n",
    "interactive_plot = interactive(plot_3d, x=(0, 50, 1), y=(0, 50, 1), z=(0, 50, 1))\n",
    "output = interactive_plot.children[-1]\n",
    "output.layout.width = '2500px'\n",
    "\n",
    "interactive_plot"
   ]
  },
  {
   "cell_type": "markdown",
   "metadata": {},
   "source": [
    "What happens if I try and describe where you are using just 2 numbers? It's ambigious. I can specify where you are in terms of longitude or latitude, but you could be at any height. Or I can choose to specify your height, and longitude, but then you could be at any latitude."
   ]
  },
  {
   "cell_type": "code",
   "execution_count": 44,
   "metadata": {},
   "outputs": [
    {
     "data": {
      "application/vnd.jupyter.widget-view+json": {
       "model_id": "4b675a09fad04e9b99ec512082eb6bbd",
       "version_major": 2,
       "version_minor": 0
      },
      "text/plain": [
       "interactive(children=(IntSlider(value=25, description='x', max=50), IntSlider(value=25, description='y', max=5…"
      ]
     },
     "metadata": {},
     "output_type": "display_data"
    }
   ],
   "source": [
    "#HIDDEN\n",
    "\n",
    "def plot_3d(x, y):\n",
    "    fig = plt.figure(figsize=(10,10))\n",
    "    ax = fig.add_subplot(111, projection='3d')\n",
    "        \n",
    "    plt.title('If I only describe position with 2 numbers, I could be anywhere on this line')\n",
    "    \n",
    "    zz = list(range(100))\n",
    "    xx = np.ones_like(zz)*x\n",
    "    yy = np.ones_like(zz)*y\n",
    "\n",
    "    ax.plot(xx, yy, zz, alpha=0.5, color='g', linewidth=10)\n",
    "\n",
    "    ax.set_xlim([0, 50])\n",
    "    ax.set_ylim([0, 50])\n",
    "    ax.set_zlim([0, 50])\n",
    "\n",
    "\n",
    "interactive_plot = interactive(plot_3d, x=(0, 50, 1), y=(0, 50, 1))\n",
    "output = interactive_plot.children[-1]\n",
    "output.layout.width = '2500px'\n",
    "\n",
    "interactive_plot\n",
    "\n",
    "\n"
   ]
  },
  {
   "cell_type": "markdown",
   "metadata": {},
   "source": [
    "And how about if I use a single number? Then things are *really* tricky, because you could be anywhere in the other two dimensions we aren't specifying. The expanse of green you see below is typically referred to as a 'plane', which is simply some shape in 2 dimensions or higher."
   ]
  },
  {
   "cell_type": "code",
   "execution_count": 48,
   "metadata": {},
   "outputs": [
    {
     "data": {
      "application/vnd.jupyter.widget-view+json": {
       "model_id": "da3591d0e3bb46249ce09dd3239d6c7d",
       "version_major": 2,
       "version_minor": 0
      },
      "text/plain": [
       "interactive(children=(IntSlider(value=25, description='z', max=50), Output(layout=Layout(width='2500px'))), _d…"
      ]
     },
     "metadata": {},
     "output_type": "display_data"
    }
   ],
   "source": [
    "#HIDDEN\n",
    "\n",
    "def plot_3d(z):\n",
    "    fig = plt.figure(figsize=(10,10))\n",
    "    ax = fig.add_subplot(111, projection='3d')\n",
    "    xx, yy = np.meshgrid(range(50), range(50))\n",
    "    z = np.ones_like(xx)*z\n",
    "    ax.plot_surface(xx, yy, z, color='g', alpha=0.2)\n",
    "    ax.set_xlim([0, 50])\n",
    "    ax.set_ylim([0, 50])\n",
    "    ax.set_zlim([0, 50])\n",
    "    \n",
    "    plt.title('If I only describe spatial position with 1 number, I could be anywhere on the plane')\n",
    "\n",
    "    \n",
    "interactive_plot = interactive(plot_3d, z =(0, 50, 1))\n",
    "output = interactive_plot.children[-1]\n",
    "output.layout.width = '2500px'\n",
    "\n",
    "interactive_plot\n"
   ]
  },
  {
   "cell_type": "markdown",
   "metadata": {},
   "source": [
    "So as you can see, if we're operating in a 3D space, trying to describe where we are using less than 3 numbers is hard.\n",
    "\n",
    "What if I want to specify your position in time? How many numbers do I need? Just 1 - your position in time can be represented just by a single number. That's why it's called a timeline:"
   ]
  },
  {
   "cell_type": "code",
   "execution_count": 46,
   "metadata": {},
   "outputs": [
    {
     "data": {
      "application/vnd.jupyter.widget-view+json": {
       "model_id": "a95d7c71df5a4586ab6505bb366daa80",
       "version_major": 2,
       "version_minor": 0
      },
      "text/plain": [
       "interactive(children=(IntSlider(value=25, description='x', max=50), Output(layout=Layout(width='2500px'))), _d…"
      ]
     },
     "metadata": {},
     "output_type": "display_data"
    }
   ],
   "source": [
    "#HIDDEN\n",
    "\n",
    "def plot_1d(x):\n",
    "    fig = plt.figure(figsize=(10,2))\n",
    "    ax = fig.add_subplot(111)\n",
    "\n",
    "    ax.scatter(x,0, color=\"g\", s=200)\n",
    "    ax.axhline()\n",
    "    ax.set_xlim([0, 50])\n",
    "    ax.set_xlabel('Year')\n",
    "\n",
    "\n",
    "interactive_plot = interactive(plot_1d, x=(0, 50, 1), y=(0, 50, 1))\n",
    "output = interactive_plot.children[-1]\n",
    "output.layout.width = '2500px'\n",
    "\n",
    "interactive_plot\n"
   ]
  },
  {
   "cell_type": "markdown",
   "metadata": {},
   "source": [
    "And so if we want to specify somebody's position in space and time, we're going to need 4 dimensions - 3 for space, and 1 for time. That's hard to depict - here I've used colour as the 4th dimension:\n"
   ]
  },
  {
   "cell_type": "code",
   "execution_count": 49,
   "metadata": {},
   "outputs": [
    {
     "data": {
      "application/vnd.jupyter.widget-view+json": {
       "model_id": "a8bd212b302141d9beac81e50272af6b",
       "version_major": 2,
       "version_minor": 0
      },
      "text/plain": [
       "interactive(children=(IntSlider(value=25, description='x', max=50), IntSlider(value=25, description='y', max=5…"
      ]
     },
     "metadata": {},
     "output_type": "display_data"
    }
   ],
   "source": [
    "#HIDDEN\n",
    "\n",
    "def plot_3d(x, y, z, year):\n",
    "    fig = plt.figure(figsize=(10,10))\n",
    "    ax = fig.add_subplot(111, projection='3d')\n",
    "    NUM_COLORS = 2000\n",
    "    cm = plt.get_cmap('jet')\n",
    "    color = cm(1.*year/NUM_COLORS)  # color will now be an RGBA tuple\n",
    "    ax.scatter(x, y, z, color=color, s=200)\n",
    "    ax.set_xlim([0, 50])\n",
    "    ax.set_ylim([0, 50])\n",
    "    ax.set_zlim([0, 50])\n",
    "\n",
    "\n",
    "\n",
    "interactive_plot = interactive(plot_3d, x=(0, 50, 1), y=(0, 50, 1), z=(0, 50, 1), year=(0, 2019, 10))\n",
    "output = interactive_plot.children[-1]\n",
    "output.layout.width = '2500px'\n",
    "\n",
    "interactive_plot"
   ]
  },
  {
   "cell_type": "markdown",
   "metadata": {},
   "source": [
    "So that's really hard to draw. Unfortunately, so are most of the spaces we're going to tackle in this piece. Because once you start looking for them, high dimensional spaces are everywhere. Let's look at the stats for one of my childhood idols, diminuitive rugby player Jason Robinson:"
   ]
  },
  {
   "cell_type": "code",
   "execution_count": 14,
   "metadata": {},
   "outputs": [
    {
     "data": {
      "text/html": [
       "<div>\n",
       "<style scoped>\n",
       "    .dataframe tbody tr th:only-of-type {\n",
       "        vertical-align: middle;\n",
       "    }\n",
       "\n",
       "    .dataframe tbody tr th {\n",
       "        vertical-align: top;\n",
       "    }\n",
       "\n",
       "    .dataframe thead th {\n",
       "        text-align: right;\n",
       "    }\n",
       "</style>\n",
       "<table border=\"1\" class=\"dataframe\">\n",
       "  <thead>\n",
       "    <tr style=\"text-align: right;\">\n",
       "      <th></th>\n",
       "      <th>Matches</th>\n",
       "      <th>Start</th>\n",
       "      <th>Sub</th>\n",
       "      <th>Pts</th>\n",
       "      <th>Tries</th>\n",
       "      <th>Conv</th>\n",
       "      <th>Pens</th>\n",
       "      <th>Drop</th>\n",
       "      <th>Won</th>\n",
       "      <th>Lost</th>\n",
       "      <th>Draw</th>\n",
       "    </tr>\n",
       "  </thead>\n",
       "  <tbody>\n",
       "    <tr>\n",
       "      <th>Jason Robinson</th>\n",
       "      <td>56</td>\n",
       "      <td>52</td>\n",
       "      <td>4</td>\n",
       "      <td>150</td>\n",
       "      <td>30</td>\n",
       "      <td>0</td>\n",
       "      <td>0</td>\n",
       "      <td>0</td>\n",
       "      <td>39</td>\n",
       "      <td>17</td>\n",
       "      <td>0</td>\n",
       "    </tr>\n",
       "  </tbody>\n",
       "</table>\n",
       "</div>"
      ],
      "text/plain": [
       "                Matches  Start  Sub  Pts  Tries  Conv  Pens  Drop  Won  Lost  \\\n",
       "Jason Robinson       56     52    4  150     30     0     0     0   39    17   \n",
       "\n",
       "                Draw  \n",
       "Jason Robinson     0  "
      ]
     },
     "execution_count": 14,
     "metadata": {},
     "output_type": "execute_result"
    }
   ],
   "source": [
    "#HIDDEN\n",
    "\n",
    "pd.DataFrame(np.array([56, 52, 4, 150, 30, 0, 0, 0, 39, 17, 0]).reshape(1,-1),\n",
    "            columns=['Matches','Start', 'Sub', 'Pts', 'Tries', 'Conv', 'Pens', 'Drop','Won', 'Lost', 'Draw'],\n",
    "            index=['Jason Robinson'])"
   ]
  },
  {
   "cell_type": "markdown",
   "metadata": {},
   "source": [
    "So we have numbers corresponding to the number of matches he played, started, appeared as substitute, how many points he scored, how many tries he scored, how many conversions, penalties, dropgoals he scored, and how many games he won, lost and drew, and his winning percentage.\n",
    "\n",
    "So what do we have? That's right, we have a 12 dimensional space.\n",
    "\n",
    "Every rugby player in the `ESPN` database can be represented as a point in this space. Here are a couple more:"
   ]
  },
  {
   "cell_type": "code",
   "execution_count": 21,
   "metadata": {},
   "outputs": [
    {
     "data": {
      "text/html": [
       "<div>\n",
       "<style scoped>\n",
       "    .dataframe tbody tr th:only-of-type {\n",
       "        vertical-align: middle;\n",
       "    }\n",
       "\n",
       "    .dataframe tbody tr th {\n",
       "        vertical-align: top;\n",
       "    }\n",
       "\n",
       "    .dataframe thead th {\n",
       "        text-align: right;\n",
       "    }\n",
       "</style>\n",
       "<table border=\"1\" class=\"dataframe\">\n",
       "  <thead>\n",
       "    <tr style=\"text-align: right;\">\n",
       "      <th></th>\n",
       "      <th>Matches</th>\n",
       "      <th>Start</th>\n",
       "      <th>Sub</th>\n",
       "      <th>Pts</th>\n",
       "      <th>Tries</th>\n",
       "      <th>Conv</th>\n",
       "      <th>Pens</th>\n",
       "      <th>Drop</th>\n",
       "      <th>Won</th>\n",
       "      <th>Lost</th>\n",
       "      <th>Draw</th>\n",
       "    </tr>\n",
       "  </thead>\n",
       "  <tbody>\n",
       "    <tr>\n",
       "      <th>Jason Robinson</th>\n",
       "      <td>56</td>\n",
       "      <td>52</td>\n",
       "      <td>4</td>\n",
       "      <td>150</td>\n",
       "      <td>30</td>\n",
       "      <td>0</td>\n",
       "      <td>0</td>\n",
       "      <td>0</td>\n",
       "      <td>39</td>\n",
       "      <td>17</td>\n",
       "      <td>0</td>\n",
       "    </tr>\n",
       "    <tr>\n",
       "      <th>Jonah Lomu</th>\n",
       "      <td>63</td>\n",
       "      <td>54</td>\n",
       "      <td>9</td>\n",
       "      <td>185</td>\n",
       "      <td>37</td>\n",
       "      <td>0</td>\n",
       "      <td>0</td>\n",
       "      <td>0</td>\n",
       "      <td>44</td>\n",
       "      <td>17</td>\n",
       "      <td>2</td>\n",
       "    </tr>\n",
       "    <tr>\n",
       "      <th>Dan Carter</th>\n",
       "      <td>112</td>\n",
       "      <td>106</td>\n",
       "      <td>6</td>\n",
       "      <td>1598</td>\n",
       "      <td>29</td>\n",
       "      <td>293</td>\n",
       "      <td>281</td>\n",
       "      <td>8</td>\n",
       "      <td>99</td>\n",
       "      <td>12</td>\n",
       "      <td>1</td>\n",
       "    </tr>\n",
       "  </tbody>\n",
       "</table>\n",
       "</div>"
      ],
      "text/plain": [
       "                Matches  Start  Sub   Pts  Tries  Conv  Pens  Drop  Won  Lost  \\\n",
       "Jason Robinson       56     52    4   150     30     0     0     0   39    17   \n",
       "Jonah Lomu           63     54    9   185     37     0     0     0   44    17   \n",
       "Dan Carter          112    106    6  1598     29   293   281     8   99    12   \n",
       "\n",
       "                Draw  \n",
       "Jason Robinson     0  \n",
       "Jonah Lomu         2  \n",
       "Dan Carter         1  "
      ]
     },
     "execution_count": 21,
     "metadata": {},
     "output_type": "execute_result"
    }
   ],
   "source": [
    "#HIDDEN\n",
    "\n",
    "df = pd.DataFrame(np.array([56, 52, 4, 150, 30, 0, 0, 0, 39, 17, 0,\n",
    "                      63, 54, 9, 185, 37, 0, 0, 0, 44, 17, 2,\n",
    "                      112, 106, 6, 1598, 29, 293, 281, 8, 99, 12, 1]).reshape(3,-1),\n",
    "            columns=['Matches','Start', 'Sub', 'Pts', 'Tries', 'Conv', 'Pens', 'Drop','Won', 'Lost', 'Draw'],\n",
    "            index=['Jason Robinson', 'Jonah Lomu', 'Dan Carter'])\n",
    "df"
   ]
  },
  {
   "cell_type": "markdown",
   "metadata": {},
   "source": [
    "To re-iterate the link to the dimensions we discussed earlier, here's what these three guys look like plotted in a 3D subspace of the columns. You can choose which to use:"
   ]
  },
  {
   "cell_type": "code",
   "execution_count": 31,
   "metadata": {},
   "outputs": [
    {
     "data": {
      "application/vnd.jupyter.widget-view+json": {
       "model_id": "b48504d971dc46cc8bcc14556df9e1d7",
       "version_major": 2,
       "version_minor": 0
      },
      "text/plain": [
       "interactive(children=(Dropdown(description='x_col', options=('Matches', 'Start', 'Sub', 'Pts', 'Tries', 'Conv'…"
      ]
     },
     "metadata": {},
     "output_type": "display_data"
    }
   ],
   "source": [
    "#HIDDEN\n",
    "\n",
    "def plot_3d(x_col, y_col, z_col):\n",
    "    fig = plt.figure(figsize=(10,10))\n",
    "    ax = fig.add_subplot(111, projection='3d')\n",
    "    \n",
    "    x = df[x_col].values\n",
    "    y = df[y_col].values\n",
    "    z = df[y_col].values\n",
    "    \n",
    "    scatter = ax.scatter(x, y, z, color=['r', 'g', 'b'], s=200)\n",
    "    \n",
    "    ax.set_xlabel(x_col)\n",
    "    ax.set_ylabel(y_col)\n",
    "    ax.set_zlabel(z_col)\n",
    "    \n",
    "    labels = ['Jason Robinson', 'Jonah Lomu', 'Dan Carter']\n",
    "    for i, txt in enumerate(labels):\n",
    "        ax.text(x[i], y[i], z[i], txt)\n",
    "\n",
    "\n",
    "interactive_plot = interactive(plot_3d, \n",
    "                               x_col=(df.columns.values), \n",
    "                               y_col=df.columns.values, \n",
    "                               z_col=df.columns.values)\n",
    "output = interactive_plot.children[-1]\n",
    "output.layout.width = '2500px'\n",
    "interactive_plot"
   ]
  },
  {
   "cell_type": "markdown",
   "metadata": {},
   "source": [
    "If you're used to working with spreadsheets or databases, you're probably thinking: oh I get it, *dimensions are basically like columns in my spreadsheet*. And that's exactly right - you can think of each row in your database as a point in a high-dimensional space defined by the columns.\n",
    "\n",
    "\n",
    "### Why does this matter?\n",
    "**Machine learning is (more or less) the business of predicting some dimensions given some others.**\n",
    "\n",
    "Let's dig into this given the examples we have so far. An example might be:\n",
    "\n",
    "1. Predicting longitude based upon latitude\n",
    "2. Predicting height above the earth based upon longitude and latitude\n",
    "3. Predicting how many points you've scored based upon how many tries, conversions, and dropgoals you've socred\n",
    "\n",
    "These range in difficulty, from very hard to very easy. You can probably see this intuitively: \n",
    "\n",
    "1. If I know your latitude, I can draw a line upon which your longitude might lie. But there are lots of different possible latitudes for a given longitude. The fact that you're unlikely to be in the sea probably helps, but we probably can't be super precise.\n",
    "\n",
    "\n",
    "2. If I know your latitude and longitude, I might actually be able to say quite alot about how high you are above the earth. For instance, if you're in New York, then you're likely to be higher above the earth than if you're in rural Zimbabwe. \n",
    "\n",
    "\n",
    "3. This one's actually trivial, because the number of points you scored is a product of the tries, conversions, and dropgoals you've scored! So there's a very simple mathematical rule we could write down to describe this relationship. But actually, we could learn it from the data too, as we'll show.\n",
    "\n",
    "\n",
    "Is life really this simple? Is all machine learning predicting one column of a database from a bunch of the others? Almost. So let's think about Go, the ancient Chinese game that DeepMind cracked using something called Deep Reinforcement Learning.\n",
    "\n",
    "Can we build this kind of 'database-style' representation? It's kind of tricky. We want to be able to pick the next move we make. Let's think about the ingredients we need:\n",
    "\n",
    "- For every position on the board, \n",
    "    - whether there is a white piece there, a black piece there, or neither\n",
    "- Whether that move was good or not\n",
    "\n",
    "The ingredients are simple, but actually getting them is rather hard:\n",
    "\n",
    "- a Go board is 19 x 19, so there are 361 positions that we need to specify. That's ok - we can have 361 columns. Unfortunately, we're going to need a lot of examples to understand what each column means. Imagine a sport you've never heard of (like, I don't know, rugby), where somebody gives you 361 numbers to describe how good each player is, along with an answer of how good that player actually is. You're going to need *a lot* of examples of players to figure out the significance of each of those columns.\n",
    "\n",
    "- We don't actually have access to that information! That's a real nuisance. Nobody is telling us whether a given move was good or bad- all we know is whether the game in which that move occurred eventually worked out well for the player or not. You can see that this is a kind of bad measure of whether an individual move was good or bad. This problem is known as **credit assignment** - how do I know whether I did a good thing but lost anyway, or won despite some bad moves?\n",
    "\n",
    "## Next time: learning\n",
    "In the next post, we're going to dig into the different kind of things we can learn about these dimensions, and some of the common problems we encounter. We'll also talk about how life can get complicated when we get to higher dimensional spaces, and start tying some of this friendly database/dimension stuff to unfriendly matrix algebra (hopefully, in the process, friendlifying it).\n"
   ]
  }
 ],
 "metadata": {
  "kernelspec": {
   "display_name": "stroke-discharge",
   "language": "python",
   "name": "stroke-discharge"
  },
  "language_info": {
   "codemirror_mode": {
    "name": "ipython",
    "version": 3
   },
   "file_extension": ".py",
   "mimetype": "text/x-python",
   "name": "python",
   "nbconvert_exporter": "python",
   "pygments_lexer": "ipython3",
   "version": "3.6.2"
  }
 },
 "nbformat": 4,
 "nbformat_minor": 2
}
